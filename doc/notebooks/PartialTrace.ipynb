{
 "cells": [
  {
   "cell_type": "markdown",
   "id": "97c7156c-e5c9-4424-a1bc-67039b4b3216",
   "metadata": {},
   "source": [
    "# Calculation of the Partial Trace"
   ]
  },
  {
   "cell_type": "markdown",
   "id": "3068dfc4-45f6-4918-a7da-4b60d24ccba5",
   "metadata": {},
   "source": [
    "## Background\n",
    "The partial trace describes the state of a multi-part quantum system after one or more of the parts are discarded. The density matrix of the remaining system is called reduced density matrix and it is calculated with the partial trace formula. For instance, the Bell state $|\\Phi^+\\rangle=\\frac{1}{\\sqrt{2}}\\left(|00\\rangle+|11\\rangle\\right)$ of two qubits leads to the fully mixed state $\\frac{1}{2}\\left(|0\\rangle \\langle 0| + |1\\rangle \\langle 1|\\right)$ for one of the qubits if the other qubit is discarded. Within geqo, discarding one ore more qubits can be achieved with the ```DropQubits``` operation. The backend ```ensembleSimulatorSymPy``` supports the calculation of partial traces."
   ]
  },
  {
   "cell_type": "markdown",
   "id": "9cfd167d-fa3b-43c5-a8d5-9fe3f7a0370a",
   "metadata": {},
   "source": [
    "## Example without entanglement\n",
    "The following example shows how the reduced density matrix of two qubits, if a Hadamard transform is applied to one of the qubits and immediately discarded after this operation."
   ]
  },
  {
   "cell_type": "code",
   "execution_count": 1,
   "id": "d031fb0c-97f3-419d-82d2-8034177f8732",
   "metadata": {},
   "outputs": [],
   "source": [
    "from geqo import Sequence\n",
    "from geqo.gates import Hadamard\n",
    "from geqo.operations import DropQubits\n",
    "from geqo.simulators.sympy import ensembleSimulatorSymPy\n",
    "\n",
    "seq = Sequence([], [0, 1], [(Hadamard(), [0]), (DropQubits(1), [0])])\n",
    "sim = ensembleSimulatorSymPy(0, 2)\n",
    "sim.apply(seq, [0, 1])"
   ]
  },
  {
   "cell_type": "markdown",
   "id": "9291a32d-5d13-4d5a-9fb0-6a7ad838db8d",
   "metadata": {},
   "source": [
    "The density matrix of the system can be accessed with the member variable ```ensemble``` of the backend ```ensembleSimulatorSymPy```. It is a dictionary that contains classical bits as keys. These classical bits are empty, if no measurement was performed so far in the circuit. If there were measurements, then the bit settings correspond to the measurement results. For each bit setting, the probability of this result and the corresponding density matrix can be accessed."
   ]
  },
  {
   "cell_type": "code",
   "execution_count": 2,
   "id": "2fcadd1b-0f4e-43c1-bf6c-277eb866d8b8",
   "metadata": {},
   "outputs": [
    {
     "name": "stdout",
     "output_type": "stream",
     "text": [
      "prob= 1\n"
     ]
    },
    {
     "data": {
      "text/latex": [
       "$\\displaystyle \\left[\\begin{matrix}1 & 0\\\\0 & 0\\end{matrix}\\right]$"
      ],
      "text/plain": [
       "Matrix([\n",
       "[1, 0],\n",
       "[0, 0]])"
      ]
     },
     "metadata": {},
     "output_type": "display_data"
    }
   ],
   "source": [
    "res = sim.ensemble\n",
    "for r in res:\n",
    "    prob = res[r][0]\n",
    "    rho = res[r][1]\n",
    "    print(\"prob=\", prob)\n",
    "    display(rho)"
   ]
  },
  {
   "cell_type": "code",
   "execution_count": 3,
   "id": "d8ed062e-480b-4e2f-8876-db6f4266999c",
   "metadata": {},
   "outputs": [
    {
     "name": "stdout",
     "output_type": "stream",
     "text": [
      "prob= 1\n"
     ]
    },
    {
     "data": {
      "text/latex": [
       "$\\displaystyle \\left[\\begin{matrix}\\frac{1}{2} & 0 & \\frac{1}{2} & 0\\\\0 & 0 & 0 & 0\\\\\\frac{1}{2} & 0 & \\frac{1}{2} & 0\\\\0 & 0 & 0 & 0\\end{matrix}\\right]$"
      ],
      "text/plain": [
       "Matrix([\n",
       "[1/2, 0, 1/2, 0],\n",
       "[  0, 0,   0, 0],\n",
       "[1/2, 0, 1/2, 0],\n",
       "[  0, 0,   0, 0]])"
      ]
     },
     "metadata": {},
     "output_type": "display_data"
    }
   ],
   "source": [
    "seqX = Sequence([], [0, 1, 2], [(Hadamard(), [0]), (DropQubits(1), [1])])\n",
    "sim = ensembleSimulatorSymPy(0, 3)\n",
    "sim.apply(seqX, [0, 1, 2])\n",
    "\n",
    "res = sim.ensemble\n",
    "for r in res:\n",
    "    prob = res[r][0]\n",
    "    rho = res[r][1]\n",
    "    print(\"prob=\", prob)\n",
    "    display(rho)"
   ]
  },
  {
   "cell_type": "code",
   "execution_count": 4,
   "id": "ca9117f1-6693-4c72-b344-74d0f54f21d3",
   "metadata": {},
   "outputs": [
    {
     "name": "stdout",
     "output_type": "stream",
     "text": [
      "prob= 1\n"
     ]
    },
    {
     "data": {
      "text/latex": [
       "$\\displaystyle \\left[\\begin{matrix}\\frac{1}{2} & \\frac{1}{2}\\\\\\frac{1}{2} & \\frac{1}{2}\\end{matrix}\\right]$"
      ],
      "text/plain": [
       "Matrix([\n",
       "[1/2, 1/2],\n",
       "[1/2, 1/2]])"
      ]
     },
     "metadata": {},
     "output_type": "display_data"
    }
   ],
   "source": [
    "seqX = Sequence([], [0, 1, 2], [(Hadamard(), [0]), (DropQubits(2), [1, 2])])\n",
    "sim = ensembleSimulatorSymPy(0, 3)\n",
    "sim.apply(seqX, [0, 1, 2])\n",
    "\n",
    "res = sim.ensemble\n",
    "for r in res:\n",
    "    prob = res[r][0]\n",
    "    rho = res[r][1]\n",
    "    print(\"prob=\", prob)\n",
    "    display(rho)"
   ]
  },
  {
   "cell_type": "markdown",
   "id": "187f4ecf-75e5-4efa-adb5-8b86adc0cc2f",
   "metadata": {},
   "source": [
    "## Example with entanglement"
   ]
  },
  {
   "cell_type": "code",
   "execution_count": 5,
   "id": "6b851a26-d056-41fa-8d2c-a7b89b0af9ad",
   "metadata": {},
   "outputs": [
    {
     "name": "stdout",
     "output_type": "stream",
     "text": [
      "prob= 1\n"
     ]
    },
    {
     "data": {
      "text/latex": [
       "$\\displaystyle \\left[\\begin{matrix}0 & 0 & 0 & 0\\\\0 & \\frac{1}{2} & 0 & \\frac{1}{2}\\\\0 & 0 & 0 & 0\\\\0 & \\frac{1}{2} & 0 & \\frac{1}{2}\\end{matrix}\\right]$"
      ],
      "text/plain": [
       "Matrix([\n",
       "[0,   0, 0,   0],\n",
       "[0, 1/2, 0, 1/2],\n",
       "[0,   0, 0,   0],\n",
       "[0, 1/2, 0, 1/2]])"
      ]
     },
     "metadata": {},
     "output_type": "display_data"
    }
   ],
   "source": [
    "from geqo.gates import PauliX\n",
    "\n",
    "seqX = Sequence(\n",
    "    [],\n",
    "    [0, 1, 2],\n",
    "    [\n",
    "        (Hadamard(), [0]),\n",
    "        (PauliX(), [1]),\n",
    "        (Hadamard(), [2]),\n",
    "        (DropQubits(1), [2]),\n",
    "    ],\n",
    ")\n",
    "\n",
    "sim = ensembleSimulatorSymPy(0, 3)\n",
    "sim.apply(seqX, [0, 1, 2])\n",
    "\n",
    "res = sim.ensemble\n",
    "for r in res:\n",
    "    prob = res[r][0]\n",
    "    rho = res[r][1]\n",
    "    print(\"prob=\", prob)\n",
    "    display(rho)"
   ]
  },
  {
   "cell_type": "code",
   "execution_count": 6,
   "id": "b94f175b-b351-46bd-997c-bda31df9eac0",
   "metadata": {},
   "outputs": [
    {
     "name": "stdout",
     "output_type": "stream",
     "text": [
      "prob= 1\n"
     ]
    },
    {
     "data": {
      "text/plain": [
       "(1024, 1024)"
      ]
     },
     "metadata": {},
     "output_type": "display_data"
    }
   ],
   "source": [
    "numberQubits = 10\n",
    "seq = []\n",
    "for i in range(numberQubits):\n",
    "    seq.append((Hadamard(), [i]))\n",
    "seq2 = Sequence([], list(range(numberQubits)), seq)\n",
    "sim = ensembleSimulatorSymPy(0, 10)\n",
    "sim.apply(seq2, [0, 1, 2, 3, 4, 5, 6, 7, 8, 9])\n",
    "\n",
    "res = sim.ensemble\n",
    "for r in res:\n",
    "    prob = res[r][0]\n",
    "    rho = res[r][1]\n",
    "    print(\"prob=\", prob)\n",
    "    display(rho.shape)"
   ]
  }
 ],
 "metadata": {
  "kernelspec": {
   "display_name": "Python 3",
   "language": "python",
   "name": "python3"
  },
  "language_info": {
   "codemirror_mode": {
    "name": "ipython",
    "version": 3
   },
   "file_extension": ".py",
   "mimetype": "text/x-python",
   "name": "python",
   "nbconvert_exporter": "python",
   "pygments_lexer": "ipython3",
   "version": "3.12.11"
  }
 },
 "nbformat": 4,
 "nbformat_minor": 5
}
